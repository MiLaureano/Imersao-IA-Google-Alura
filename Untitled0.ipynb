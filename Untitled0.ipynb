{
  "nbformat": 4,
  "nbformat_minor": 0,
  "metadata": {
    "colab": {
      "provenance": [],
      "authorship_tag": "ABX9TyNtlk+Twmpf/Po9R6WNsm45",
      "include_colab_link": true
    },
    "kernelspec": {
      "name": "python3",
      "display_name": "Python 3"
    },
    "language_info": {
      "name": "python"
    }
  },
  "cells": [
    {
      "cell_type": "markdown",
      "metadata": {
        "id": "view-in-github",
        "colab_type": "text"
      },
      "source": [
        "<a href=\"https://colab.research.google.com/github/MiLaureano/Imersao-IA-Google-Alura/blob/main/Untitled0.ipynb\" target=\"_parent\"><img src=\"https://colab.research.google.com/assets/colab-badge.svg\" alt=\"Open In Colab\"/></a>"
      ]
    },
    {
      "cell_type": "markdown",
      "source": [
        "instalando o SDK do Google"
      ],
      "metadata": {
        "id": "5yPXpZXygMlP"
      }
    },
    {
      "cell_type": "markdown",
      "source": [
        "Instalando SDK"
      ],
      "metadata": {
        "id": "LEM4bQlhmu3W"
      }
    },
    {
      "cell_type": "code",
      "execution_count": 2,
      "metadata": {
        "id": "05Hq-fNyfson"
      },
      "outputs": [],
      "source": [
        "pip install -q -U google-generativeai"
      ]
    },
    {
      "cell_type": "markdown",
      "source": [
        "colocando minha API key em modo secreto"
      ],
      "metadata": {
        "id": "riPS56YGnD0A"
      }
    },
    {
      "cell_type": "code",
      "source": [
        "# Import the Python SDK\n",
        "import google.generativeai as genai\n",
        "from google.colab import userdata\n",
        "api_key = userdata.get (\"secret_key\")\n",
        "genai.configure(api_key=api_key)"
      ],
      "metadata": {
        "id": "PnvK4wzTkA59"
      },
      "execution_count": 42,
      "outputs": []
    },
    {
      "cell_type": "markdown",
      "source": [
        "listar modelos disponiveis"
      ],
      "metadata": {
        "id": "UJtu-jX4kVyn"
      }
    },
    {
      "cell_type": "code",
      "source": [
        "for m in genai.list_models ():\n",
        "  if 'generateContent' in m.supported_generation_methods:\n",
        "    print(m.name)"
      ],
      "metadata": {
        "colab": {
          "base_uri": "https://localhost:8080/",
          "height": 139
        },
        "id": "OwRPfLrnkLhj",
        "outputId": "cd593268-556f-420e-b5d4-ea281b2cd9c5"
      },
      "execution_count": 4,
      "outputs": [
        {
          "output_type": "stream",
          "name": "stdout",
          "text": [
            "models/gemini-1.0-pro\n",
            "models/gemini-1.0-pro-001\n",
            "models/gemini-1.0-pro-latest\n",
            "models/gemini-1.0-pro-vision-latest\n",
            "models/gemini-1.5-pro-latest\n",
            "models/gemini-pro\n",
            "models/gemini-pro-vision\n"
          ]
        }
      ]
    },
    {
      "cell_type": "markdown",
      "source": [
        "configurando os parâmetros de utilização"
      ],
      "metadata": {
        "id": "KHs2f9cdnTuB"
      }
    },
    {
      "cell_type": "code",
      "source": [
        "generation_config={\n",
        "    \"candidate_count\": 1,\n",
        "    \"temperature\": 0.5,\n",
        "}"
      ],
      "metadata": {
        "id": "gvYZgy0xnVFi"
      },
      "execution_count": 7,
      "outputs": []
    },
    {
      "cell_type": "markdown",
      "source": [
        "bloqueios de segurança"
      ],
      "metadata": {
        "id": "Szu6nKnvnaM7"
      }
    },
    {
      "cell_type": "code",
      "source": [
        "safety_settings={\n",
        "    'HATE': 'BLOCK_NONE',\n",
        "    'HARASSMENT': 'BLOCK_NONE',\n",
        "    'SEXUAL' : 'BLOCK_NONE',\n",
        "    'DANGEROUS' : 'BLOCK_NONE'\n",
        "    }"
      ],
      "metadata": {
        "id": "w8cxh9l_l89b"
      },
      "execution_count": 43,
      "outputs": []
    },
    {
      "cell_type": "markdown",
      "source": [
        "INICIALIZANDO O MODELO"
      ],
      "metadata": {
        "id": "SmQ8lz4Bq40Q"
      }
    },
    {
      "cell_type": "markdown",
      "source": [
        "modelo generativo que será utilizado"
      ],
      "metadata": {
        "id": "ExT12BrXnspk"
      }
    },
    {
      "cell_type": "code",
      "source": [
        "model = genai.GenerativeModel(model_name='gemini-1.0-pro',\n",
        "                                  generation_config=generation_config,\n",
        "                                  safety_settings=safety_settings,)"
      ],
      "metadata": {
        "id": "gcHXM1jkmWmq"
      },
      "execution_count": 44,
      "outputs": []
    },
    {
      "cell_type": "markdown",
      "source": [
        "gerando texto"
      ],
      "metadata": {
        "id": "3nfN7wHiuYTP"
      }
    },
    {
      "cell_type": "code",
      "source": [
        "response = model.generate_content(\"ciclismo\")\n",
        "print (response.text)"
      ],
      "metadata": {
        "colab": {
          "base_uri": "https://localhost:8080/",
          "height": 714
        },
        "id": "Bd0g0G1du9jt",
        "outputId": "bd75caf5-9502-49dc-837d-8d66bf80ec21"
      },
      "execution_count": 79,
      "outputs": [
        {
          "output_type": "stream",
          "name": "stdout",
          "text": [
            "**Ciclismo**\n",
            "\n",
            "**Definição:**\n",
            "\n",
            "O ciclismo é um esporte ou atividade recreativa que envolve andar de bicicleta. Pode ser praticado em uma variedade de terrenos, incluindo estradas, trilhas e pistas.\n",
            "\n",
            "**Tipos de Ciclismo:**\n",
            "\n",
            "* **Ciclismo de estrada:** Andar de bicicleta em estradas pavimentadas, geralmente em distâncias longas.\n",
            "* **Ciclismo de montanha:** Andar de bicicleta em terrenos acidentados, como trilhas e florestas.\n",
            "* **Ciclismo de pista:** Andar de bicicleta em uma pista oval, geralmente em alta velocidade.\n",
            "* **Ciclismo BMX:** Andar de bicicleta em uma pista de terra com obstáculos e saltos.\n",
            "* **Ciclismo de turismo:** Andar de bicicleta por longas distâncias, geralmente carregando equipamentos.\n",
            "* **Ciclismo indoor:** Andar de bicicleta em uma bicicleta ergométrica ou em uma aula de spinning.\n",
            "\n",
            "**Benefícios do Ciclismo:**\n",
            "\n",
            "* **Melhora a saúde cardiovascular:** O ciclismo é um exercício aeróbico que fortalece o coração e os pulmões.\n",
            "* **Queima calorias:** O ciclismo é uma ótima maneira de queimar calorias e perder peso.\n",
            "* **Fortalece os músculos:** O ciclismo fortalece os músculos das pernas, glúteos e núcleo.\n",
            "* **Reduz o estresse:** O ciclismo pode ser uma atividade relaxante e agradável que ajuda a reduzir o estresse.\n",
            "* **Melhora o equilíbrio e a coordenação:** O ciclismo requer equilíbrio e coordenação, o que pode melhorar essas habilidades.\n",
            "\n",
            "**Equipamento de Ciclismo:**\n",
            "\n",
            "* Bicicleta\n",
            "* Capacete\n",
            "* Sapatos de ciclismo\n",
            "* Roupas de ciclismo\n",
            "* Luvas de ciclismo\n",
            "* Garrafa de água\n",
            "\n",
            "**Dicas para Iniciantes:**\n",
            "\n",
            "* Comece gradualmente e aumente a distância e a intensidade aos poucos.\n",
            "* Use um capacete sempre que andar de bicicleta.\n",
            "* Esteja atento ao tráfego e siga as regras da estrada.\n",
            "* Mantenha sua bicicleta bem conservada.\n",
            "* Divirta-se! O ciclismo deve ser uma atividade agradável.\n"
          ]
        }
      ]
    },
    {
      "cell_type": "markdown",
      "source": [
        "iniciar o chat"
      ],
      "metadata": {
        "id": "hCLXHC1PwBHN"
      }
    },
    {
      "cell_type": "code",
      "source": [
        "chat = model.start_chat(history=[])"
      ],
      "metadata": {
        "id": "GBXPiV8mwh2O"
      },
      "execution_count": 57,
      "outputs": []
    },
    {
      "cell_type": "markdown",
      "source": [
        "Loop para enviar mensagens e receber respostas"
      ],
      "metadata": {
        "id": "E8FUXTQOw0Lx"
      }
    },
    {
      "cell_type": "code",
      "source": [
        "chat = model.start_chat(history=[])\n",
        "\n",
        "prompt = input('Esperando prompt: ')\n",
        "\n",
        "while prompt != \"fim\":\n",
        "  response = chat.send_message(prompt)\n",
        "  print(\"Resposta:\", response.text, '\\n\\n')\n",
        "  prompt = input('Esperando prompt: ')"
      ],
      "metadata": {
        "colab": {
          "base_uri": "https://localhost:8080/",
          "height": 419
        },
        "id": "zAl4ryXtw7q7",
        "outputId": "6b4de5e6-c166-490a-d425-2a11a03a4fd2"
      },
      "execution_count": 78,
      "outputs": [
        {
          "name": "stdout",
          "output_type": "stream",
          "text": [
            "Esperando prompt: o que é uma gravel\n",
            "Resposta: Uma gravel é um tipo de bicicleta projetada para andar em superfícies mistas, incluindo estradas de asfalto, cascalho e trilhas de terra.\n",
            "\n",
            "**Características:**\n",
            "\n",
            "* **Quadro:** Geralmente feito de alumínio ou aço, com geometria mais relaxada do que as bicicletas de estrada, proporcionando maior conforto em terrenos acidentados.\n",
            "* **Rodas:** Rodas maiores (geralmente 700c ou 650b) com pneus largos e cravejados para aderência em terrenos soltos.\n",
            "* **Transmissão:** Transmissão de marchas largas para lidar com inclinações e terrenos variados.\n",
            "* **Freios:** Freios a disco hidráulicos para potência de frenagem confiável em todas as condições.\n",
            "* **Guidão:** Guidão drop ou flat, permitindo várias posições de pilotagem para conforto e controle.\n",
            "* **Bagageiros e suportes:** Muitas gravels possuem pontos de montagem para bagageiros e suportes, permitindo que os ciclistas carreguem equipamentos para passeios mais longos.\n",
            "\n",
            "**Benefícios:**\n",
            "\n",
            "* **Versatilidade:** Pode ser usada em uma ampla gama de terrenos, desde estradas pavimentadas até trilhas de terra.\n",
            "* **Conforto:** A geometria relaxada e os pneus largos proporcionam um passeio mais confortável em superfícies irregulares.\n",
            "* **Aventura:** Permite que os ciclistas explorem áreas fora das estradas pavimentadas, abrindo novas possibilidades de aventura.\n",
            "* **Fitness:** Andar de gravel é um ótimo treino cardiovascular e de força.\n",
            "* **Comunidade:** Há uma crescente comunidade de ciclistas de gravel que compartilham rotas, dicas e eventos. \n",
            "\n",
            "\n",
            "Esperando prompt: fim\n"
          ]
        }
      ]
    },
    {
      "cell_type": "markdown",
      "source": [
        "melhorando a apresentação/visualização"
      ],
      "metadata": {
        "id": "hI5hIuJM6kEC"
      }
    },
    {
      "cell_type": "code",
      "source": [
        "import textwrap\n",
        "from IPython.display import display\n",
        "from IPython.display import Markdown\n",
        "\n",
        "def to_markdown(text):\n",
        "  text = text.replace('•', '  *')\n",
        "  return Markdown(textwrap.indent(text, '> ', predicate=lambda _: True))\n",
        "\n",
        "#Imprimindo o histórico\n",
        "for message in chat.history:\n",
        "  display(to_markdown(f'**{message.role}**: {message.parts[0].text}'))\n",
        "  print('-------------------------------------------')"
      ],
      "metadata": {
        "colab": {
          "base_uri": "https://localhost:8080/",
          "height": 427
        },
        "id": "S1HiZRK96n0i",
        "outputId": "d06823fb-95ea-4aa9-b91e-c1930f589399"
      },
      "execution_count": 80,
      "outputs": [
        {
          "output_type": "display_data",
          "data": {
            "text/plain": [
              "<IPython.core.display.Markdown object>"
            ],
            "text/markdown": "> **user**: o que é uma gravel"
          },
          "metadata": {}
        },
        {
          "output_type": "stream",
          "name": "stdout",
          "text": [
            "-------------------------------------------\n"
          ]
        },
        {
          "output_type": "display_data",
          "data": {
            "text/plain": [
              "<IPython.core.display.Markdown object>"
            ],
            "text/markdown": "> **model**: Uma gravel é um tipo de bicicleta projetada para andar em superfícies mistas, incluindo estradas de asfalto, cascalho e trilhas de terra.\n> \n> **Características:**\n> \n> * **Quadro:** Geralmente feito de alumínio ou aço, com geometria mais relaxada do que as bicicletas de estrada, proporcionando maior conforto em terrenos acidentados.\n> * **Rodas:** Rodas maiores (geralmente 700c ou 650b) com pneus largos e cravejados para aderência em terrenos soltos.\n> * **Transmissão:** Transmissão de marchas largas para lidar com inclinações e terrenos variados.\n> * **Freios:** Freios a disco hidráulicos para potência de frenagem confiável em todas as condições.\n> * **Guidão:** Guidão drop ou flat, permitindo várias posições de pilotagem para conforto e controle.\n> * **Bagageiros e suportes:** Muitas gravels possuem pontos de montagem para bagageiros e suportes, permitindo que os ciclistas carreguem equipamentos para passeios mais longos.\n> \n> **Benefícios:**\n> \n> * **Versatilidade:** Pode ser usada em uma ampla gama de terrenos, desde estradas pavimentadas até trilhas de terra.\n> * **Conforto:** A geometria relaxada e os pneus largos proporcionam um passeio mais confortável em superfícies irregulares.\n> * **Aventura:** Permite que os ciclistas explorem áreas fora das estradas pavimentadas, abrindo novas possibilidades de aventura.\n> * **Fitness:** Andar de gravel é um ótimo treino cardiovascular e de força.\n> * **Comunidade:** Há uma crescente comunidade de ciclistas de gravel que compartilham rotas, dicas e eventos."
          },
          "metadata": {}
        },
        {
          "output_type": "stream",
          "name": "stdout",
          "text": [
            "-------------------------------------------\n"
          ]
        }
      ]
    }
  ]
}